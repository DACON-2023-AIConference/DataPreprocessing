{
 "cells": [
  {
   "cell_type": "markdown",
   "id": "523158e3",
   "metadata": {},
   "source": [
    "Train : 1024x1024 , Test : 224x224\n",
    "최대공약수 32\n",
    "\n",
    "import"
   ]
  },
  {
   "cell_type": "code",
   "execution_count": 34,
   "id": "30a13c33",
   "metadata": {},
   "outputs": [],
   "source": [
    "import pandas as pd\n",
    "import numpy as np\n",
    "import cv2\n",
    "import os"
   ]
  },
  {
   "cell_type": "markdown",
   "id": "73d8e0c0",
   "metadata": {},
   "source": [
    "Dataframe & rle decoding function"
   ]
  },
  {
   "cell_type": "code",
   "execution_count": 53,
   "id": "2de1b330",
   "metadata": {},
   "outputs": [],
   "source": [
    "df=pd.read_csv('./train.csv')\n",
    "\n",
    "# RLE 디코딩 함수\n",
    "def rle_decode(mask_rle, shape):\n",
    "    s = mask_rle.split()\n",
    "    starts, lengths = [np.asarray(x, dtype=int) for x in (s[0:][::2], s[1:][::2])]\n",
    "    starts -= 1\n",
    "    ends = starts + lengths\n",
    "    img = np.zeros(shape[0]*shape[1], dtype=np.uint8)\n",
    "    for lo, hi in zip(starts, ends):\n",
    "        img[lo:hi] = 1\n",
    "    return img.reshape(shape)"
   ]
  },
  {
   "cell_type": "markdown",
   "id": "4f88d64a",
   "metadata": {},
   "source": [
    "Split train_img to 4X4 (size : 224x224)"
   ]
  },
  {
   "cell_type": "code",
   "execution_count": 90,
   "id": "1a28f54c",
   "metadata": {},
   "outputs": [],
   "source": [
    "train_directory=os.listdir('./train_img')\n",
    "img_path = df.iloc[:, 1]\n",
    "\n",
    "for file in train_directory:\n",
    "    empty_matrix=[[[[0 for _ in range(224)] for _ in range(224)] for _ in range(3)] for _ in range(16)]\n",
    "    image=cv2.imread('./train_img/'+file)\n",
    "    count=0\n",
    "    \n",
    "    filename=file.rstrip('.png')\n",
    "    for i in range(4):\n",
    "        for j in range(4):\n",
    "            empty_matrix[count]=image[224*i:224*i+223,224*j:224*j+223,0:3]\n",
    "            cv2.imwrite('./preprocessed_train_img/{path}{by}{count}.jpg'.format(path=filename,by='_',count=count),empty_matrix[count])\n",
    "            count=count+1"
   ]
  },
  {
   "cell_type": "markdown",
   "id": "11de910a",
   "metadata": {},
   "source": [
    "Split mask img to 4X4 (size 224)"
   ]
  },
  {
   "cell_type": "code",
   "execution_count": 89,
   "id": "66a7bb38",
   "metadata": {},
   "outputs": [],
   "source": [
    "mask_list=df[[df.columns[0],df.columns[2]]].to_numpy()\n",
    "for mask in mask_list:\n",
    "    mask_name=mask[0]\n",
    "    mask_image=rle_decode(mask[1],(1024,1024))\n",
    "    count=0\n",
    "    empty_matrix=[[[[0 for _ in range(224)] for _ in range(224)] for _ in range(3)] for _ in range(16)]\n",
    "    for i in range(4):\n",
    "        for j in range(4):\n",
    "            empty_matrix[count]=mask_image[224*i:224*i+223,224*j:224*j+223]\n",
    "            cv2.imwrite('./decode_mask_img/{path}{by}{count}.jpg'.format(path=mask_name,by='_',count=count),mask_image*255)\n",
    "            count=count+1"
   ]
  },
  {
   "cell_type": "code",
   "execution_count": null,
   "id": "47e596db",
   "metadata": {},
   "outputs": [],
   "source": []
  }
 ],
 "metadata": {
  "kernelspec": {
   "display_name": "Python dnn",
   "language": "python",
   "name": "myenv"
  },
  "language_info": {
   "codemirror_mode": {
    "name": "ipython",
    "version": 3
   },
   "file_extension": ".py",
   "mimetype": "text/x-python",
   "name": "python",
   "nbconvert_exporter": "python",
   "pygments_lexer": "ipython3",
   "version": "3.9.16"
  }
 },
 "nbformat": 4,
 "nbformat_minor": 5
}
