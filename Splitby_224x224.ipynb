{
 "cells": [
  {
   "cell_type": "markdown",
   "id": "0c8550a0",
   "metadata": {},
   "source": [
    "Train : 1024x1024 , Test : 224x224\n",
    "최대공약수 32\n",
    "\n",
    "import"
   ]
  },
  {
   "cell_type": "code",
   "execution_count": 34,
   "id": "414af4f0",
   "metadata": {},
   "outputs": [],
   "source": [
    "import pandas as pd\n",
    "import numpy as np\n",
    "import cv2\n",
    "import os"
   ]
  },
  {
   "cell_type": "markdown",
   "id": "e9d338d0",
   "metadata": {},
   "source": [
    "Train image"
   ]
  },
  {
   "cell_type": "code",
   "execution_count": 3,
   "id": "158a29b2",
   "metadata": {},
   "outputs": [],
   "source": [
    "df=pd.read_csv('./train.csv')\n",
    "img_path = df.iloc[:, 1]"
   ]
  },
  {
   "cell_type": "markdown",
   "id": "4ab6f797",
   "metadata": {},
   "source": [
    "Split train_img to 4X4 (size : 224x224)"
   ]
  },
  {
   "cell_type": "code",
   "execution_count": null,
   "id": "c6da20d7",
   "metadata": {},
   "outputs": [],
   "source": [
    "train_directory=os.listdir('./train_img')\n",
    "\n",
    "for filename in train_directory:\n",
    "    empty_matrix=[[[[0 for _ in range(224)] for _ in range(224)] for _ in range(3)] for _ in range(16)]\n",
    "#     print(filename)\n",
    "    image=cv2.imread('./train_img/'+filename)\n",
    "    count=0\n",
    "    for i in range(4):\n",
    "        for j in range(4):\n",
    "            empty_matrix[count]=image[224*i:224*i+223,224*j:224*j+223,0:3]\n",
    "            cv2.imwrite('./preprocessed_train_img/{path}{by}{count}.jpg'.format(path=filename,by='_',count=count),empty_matrix[count])\n",
    "            count=count+1"
   ]
  }
 ],
 "metadata": {
  "kernelspec": {
   "display_name": "Python dnn",
   "language": "python",
   "name": "myenv"
  },
  "language_info": {
   "codemirror_mode": {
    "name": "ipython",
    "version": 3
   },
   "file_extension": ".py",
   "mimetype": "text/x-python",
   "name": "python",
   "nbconvert_exporter": "python",
   "pygments_lexer": "ipython3",
   "version": "3.9.16"
  }
 },
 "nbformat": 4,
 "nbformat_minor": 5
}
