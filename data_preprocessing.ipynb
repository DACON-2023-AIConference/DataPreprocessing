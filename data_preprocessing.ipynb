{
 "cells": [
  {
   "cell_type": "markdown",
   "id": "523158e3",
   "metadata": {},
   "source": [
    "Train : 1024x1024 , Test : 224x224\n",
    "최대공약수 32\n",
    "\n",
    "import"
   ]
  },
  {
   "cell_type": "code",
   "execution_count": 2,
   "id": "30a13c33",
   "metadata": {},
   "outputs": [],
   "source": [
    "import pandas as pd\n",
    "import numpy as np\n",
    "import cv2\n",
    "import os"
   ]
  },
  {
   "cell_type": "markdown",
   "id": "73d8e0c0",
   "metadata": {},
   "source": [
    "Dataframe & rle decoding function"
   ]
  },
  {
   "cell_type": "code",
   "execution_count": 2,
   "id": "2de1b330",
   "metadata": {},
   "outputs": [],
   "source": [
    "df=pd.read_csv('./data/train.csv')\n",
    "\n",
    "# RLE 디코딩 함수\n",
    "def rle_decode(mask_rle, shape):\n",
    "    s = mask_rle.split()\n",
    "    starts, lengths = [np.asarray(x, dtype=int) for x in (s[0:][::2], s[1:][::2])]\n",
    "    starts -= 1\n",
    "    ends = starts + lengths\n",
    "    img = np.zeros(shape[0]*shape[1], dtype=np.uint8)\n",
    "    for lo, hi in zip(starts, ends):\n",
    "        img[lo:hi] = 1\n",
    "    return img.reshape(shape)"
   ]
  },
  {
   "cell_type": "markdown",
   "id": "4f88d64a",
   "metadata": {},
   "source": [
    "Split train_img to 32X32 (size : 32x32)"
   ]
  },
  {
   "cell_type": "code",
   "execution_count": 4,
   "id": "1a28f54c",
   "metadata": {},
   "outputs": [],
   "source": [
    "train_directory=os.listdir('./data/train_img')\n",
    "img_path = df.iloc[:, 1]\n",
    "\n",
    "for file in train_directory:\n",
    "    empty_matrix=[[[[0 for _ in range(32)] for _ in range(32)] for _ in range(3)] for _ in range(1024)]\n",
    "    image=cv2.imread('./data/train_img/'+file)\n",
    "    count=0\n",
    "    \n",
    "    filename=file.rstrip('.png')\n",
    "    for i in range(32):\n",
    "        for j in range(32):\n",
    "            empty_matrix[count]=image[32*i:32*i+32,32*j:32*j+32,0:3]\n",
    "            cv2.imwrite('./data/32x32preprocessing/images/{path}{by}{count}.jpg'.format(path=filename,by='_',count=count),empty_matrix[count])\n",
    "            count=count+1\n",
    "#             print(count)"
   ]
  },
  {
   "cell_type": "markdown",
   "id": "11de910a",
   "metadata": {},
   "source": [
    "Split mask img to 32X32 (size 32)"
   ]
  },
  {
   "cell_type": "code",
   "execution_count": 5,
   "id": "66a7bb38",
   "metadata": {},
   "outputs": [],
   "source": [
    "mask_list=df[[df.columns[0],df.columns[2]]].to_numpy()\n",
    "for mask in mask_list:\n",
    "    mask_name=mask[0]\n",
    "    mask_image=rle_decode(mask[1],(1024,1024))\n",
    "    count=0\n",
    "    empty_matrix=[[[[0 for _ in range(224)] for _ in range(224)] for _ in range(3)] for _ in range(1024)]\n",
    "    for i in range(32):\n",
    "        for j in range(32):\n",
    "            empty_matrix[count]=mask_image[32*i:32*i+32,32*j:32*j+32]\n",
    "            cv2.imwrite('./data/32x32preprocessing/masks/{path}{by}{count}.jpg'.format(path=mask_name,by='_',count=count),empty_matrix[count]*255)\n",
    "            count=count+1"
   ]
  },
  {
   "cell_type": "markdown",
   "id": "b7f72b6e",
   "metadata": {},
   "source": [
    "Split train_img to 4X4 (size : 224x224)"
   ]
  },
  {
   "cell_type": "code",
   "execution_count": 3,
   "id": "97e4ab5c",
   "metadata": {},
   "outputs": [],
   "source": [
    "train_directory=os.listdir('./data/train_img')\n",
    "img_path = df.iloc[:, 1]\n",
    "\n",
    "for file in train_directory:\n",
    "    empty_matrix=[[[[0 for _ in range(224)] for _ in range(224)] for _ in range(3)] for _ in range(16)]\n",
    "    image=cv2.imread('./data/train_img/'+file)\n",
    "    count=0\n",
    "    \n",
    "    filename=file.rstrip('.png')\n",
    "    for i in range(4):\n",
    "        for j in range(4):\n",
    "            empty_matrix[count]=image[224*i:224*i+224,224*j:224*j+224,0:3]\n",
    "            cv2.imwrite('./data/224x224preprocessing/mydataset/train/images/{path}{by}{count}.jpg'.format(path=filename,by='_',count=count),empty_matrix[count])\n",
    "            count=count+1\n",
    "#             print(count)"
   ]
  },
  {
   "cell_type": "markdown",
   "id": "672e4d26",
   "metadata": {},
   "source": [
    "Split mask img to 4X4 (size 224x224)"
   ]
  },
  {
   "cell_type": "code",
   "execution_count": 4,
   "id": "47e596db",
   "metadata": {},
   "outputs": [],
   "source": [
    "mask_list=df[[df.columns[0],df.columns[2]]].to_numpy()\n",
    "for mask in mask_list:\n",
    "    mask_name=mask[0]\n",
    "    mask_image=rle_decode(mask[1],(1024,1024))\n",
    "    count=0\n",
    "    empty_matrix=[[[[0 for _ in range(224)] for _ in range(224)] for _ in range(3)] for _ in range(16)]\n",
    "    for i in range(4):\n",
    "        for j in range(4):\n",
    "            empty_matrix[count]=mask_image[224*i:224*i+224,224*j:224*j+224]\n",
    "            cv2.imwrite('./data/224x224preprocessing/mydataset/train/Semantic_masks/{path}{by}{count}.jpg'.format(path=mask_name,by='_',count=count),empty_matrix[count]*255)\n",
    "            count=count+1"
   ]
  },
  {
   "cell_type": "markdown",
   "id": "43e31e70",
   "metadata": {},
   "source": [
    "split test img to 32x32(size 32x32)"
   ]
  },
  {
   "cell_type": "code",
   "execution_count": 14,
   "id": "fa571dbf",
   "metadata": {},
   "outputs": [],
   "source": [
    "test_directory=os.listdir('./data/test_img')\n",
    "img_path = df.iloc[:, 1]\n",
    "\n",
    "for file in test_directory:\n",
    "    empty_matrix=[[[[0 for _ in range(7)] for _ in range(7)] for _ in range(3)] for _ in range(49)]\n",
    "    image=cv2.imread('./data/test_img/'+file)\n",
    "    count=0\n",
    "#     print(image.shape)\n",
    "    filename=file.rstrip('.png')\n",
    "    for i in range(7):\n",
    "        for j in range(7):\n",
    "            empty_matrix[count]=image[32*i:32*i+32,32*j:32*j+32,0:3]\n",
    "            cv2.imwrite('./data/32x32preprocessing/test_images/{path}{by}{count}.jpg'.format(path=mask_name,by='_',count=count),empty_matrix[count]*255)\n",
    "            count=count+1\n",
    "#             print(count)"
   ]
  },
  {
   "cell_type": "markdown",
   "id": "5c698f4a",
   "metadata": {},
   "source": [
    "zero padding(224,224, image)"
   ]
  },
  {
   "cell_type": "code",
   "execution_count": 25,
   "id": "9e2eefd4",
   "metadata": {},
   "outputs": [],
   "source": [
    "import numpy as np\n",
    "test_directory=os.listdir('./data/224x224preprocessing/mydataset/test/test_img')\n",
    "for file in test_directory:\n",
    "        image=cv2.imread('./data/224x224preprocessing/mydataset/test/test_img/'+file)\n",
    "        image = cv2.cvtColor(image, cv2.COLOR_BGR2GRAY)\n",
    "        output = np.pad(image, ((16,16),(16,16)), mode='constant',constant_values=0)\n",
    "        output = cv2.cvtColor(output, cv2.COLOR_GRAY2RGB)\n",
    "        cv2.imwrite('./data/256x256padding/test_img/'+file, output)"
   ]
  },
  {
   "cell_type": "code",
   "execution_count": 24,
   "id": "ebeb9248",
   "metadata": {},
   "outputs": [],
   "source": [
    "import numpy as np\n",
    "train_directory=os.listdir('./data/224x224preprocessing/mydataset/train/images')\n",
    "for file in train_directory:\n",
    "#         print(file)\n",
    "        image=cv2.imread('./data/224x224preprocessing/mydataset/train/images/'+file)\n",
    "        image = cv2.cvtColor(image, cv2.COLOR_BGR2GRAY)\n",
    "        output = np.pad(image, ((16,16),(16,16)), mode='constant',constant_values=0)\n",
    "        output = cv2.cvtColor(output, cv2.COLOR_GRAY2RGB)\n",
    "        cv2.imwrite('./data/256x256padding/train_img/'+file, output)"
   ]
  },
  {
   "cell_type": "code",
   "execution_count": null,
   "id": "5f879961",
   "metadata": {},
   "outputs": [],
   "source": [
    "import numpy as np\n",
    "train_mask_directory=os.listdir('./data/224x224preprocessing/mydataset/train/Semantic_masks')\n",
    "for file in train_mask_directory:\n",
    "        image=cv2.imread('./data/224x224preprocessing/mydataset/train/Semantic_masks/'+file)\n",
    "        image = cv2.cvtColor(image, cv2.COLOR_BGR2GRAY)\n",
    "        output = np.pad(image, ((16,16),(16,16)), mode='constant',constant_values=0)\n",
    "        cv2.imwrite('./data/256x256padding/train_mask/'+file, output)"
   ]
  }
 ],
 "metadata": {
  "kernelspec": {
   "display_name": "Python dnn",
   "language": "python",
   "name": "myenv"
  },
  "language_info": {
   "codemirror_mode": {
    "name": "ipython",
    "version": 3
   },
   "file_extension": ".py",
   "mimetype": "text/x-python",
   "name": "python",
   "nbconvert_exporter": "python",
   "pygments_lexer": "ipython3",
   "version": "3.9.16"
  }
 },
 "nbformat": 4,
 "nbformat_minor": 5
}
