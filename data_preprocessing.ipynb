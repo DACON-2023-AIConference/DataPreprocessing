{
 "cells": [
  {
   "cell_type": "markdown",
   "id": "523158e3",
   "metadata": {},
   "source": [
    "Train : 1024x1024 , Test : 224x224\n",
    "최대공약수 32\n",
    "\n",
    "import"
   ]
  },
  {
   "cell_type": "code",
   "execution_count": 1,
   "id": "30a13c33",
   "metadata": {},
   "outputs": [],
   "source": [
    "import pandas as pd\n",
    "import numpy as np\n",
    "import cv2\n",
    "import os"
   ]
  },
  {
   "cell_type": "markdown",
   "id": "73d8e0c0",
   "metadata": {},
   "source": [
    "Dataframe & rle decoding function"
   ]
  },
  {
   "cell_type": "code",
   "execution_count": 2,
   "id": "2de1b330",
   "metadata": {},
   "outputs": [],
   "source": [
    "df=pd.read_csv('./data/train.csv')\n",
    "\n",
    "# RLE 디코딩 함수\n",
    "def rle_decode(mask_rle, shape):\n",
    "    s = mask_rle.split()\n",
    "    starts, lengths = [np.asarray(x, dtype=int) for x in (s[0:][::2], s[1:][::2])]\n",
    "    starts -= 1\n",
    "    ends = starts + lengths\n",
    "    img = np.zeros(shape[0]*shape[1], dtype=np.uint8)\n",
    "    for lo, hi in zip(starts, ends):\n",
    "        img[lo:hi] = 1\n",
    "    return img.reshape(shape)"
   ]
  },
  {
   "cell_type": "markdown",
   "id": "4f88d64a",
   "metadata": {},
   "source": [
    "Split train_img to 32X32 (size : 32x32)"
   ]
  },
  {
   "cell_type": "code",
   "execution_count": 11,
   "id": "1a28f54c",
   "metadata": {},
   "outputs": [
    {
     "ename": "KeyboardInterrupt",
     "evalue": "",
     "output_type": "error",
     "traceback": [
      "\u001b[1;31m---------------------------------------------------------------------------\u001b[0m",
      "\u001b[1;31mKeyboardInterrupt\u001b[0m                         Traceback (most recent call last)",
      "Cell \u001b[1;32mIn[11], line 13\u001b[0m\n\u001b[0;32m     11\u001b[0m \u001b[38;5;28;01mfor\u001b[39;00m j \u001b[38;5;129;01min\u001b[39;00m \u001b[38;5;28mrange\u001b[39m(\u001b[38;5;241m32\u001b[39m):\n\u001b[0;32m     12\u001b[0m     empty_matrix[count]\u001b[38;5;241m=\u001b[39mimage[\u001b[38;5;241m32\u001b[39m\u001b[38;5;241m*\u001b[39mi:\u001b[38;5;241m32\u001b[39m\u001b[38;5;241m*\u001b[39mi\u001b[38;5;241m+\u001b[39m\u001b[38;5;241m31\u001b[39m,\u001b[38;5;241m32\u001b[39m\u001b[38;5;241m*\u001b[39mj:\u001b[38;5;241m32\u001b[39m\u001b[38;5;241m*\u001b[39mj\u001b[38;5;241m+\u001b[39m\u001b[38;5;241m31\u001b[39m,\u001b[38;5;241m0\u001b[39m:\u001b[38;5;241m3\u001b[39m]\n\u001b[1;32m---> 13\u001b[0m     \u001b[43mcv2\u001b[49m\u001b[38;5;241;43m.\u001b[39;49m\u001b[43mimwrite\u001b[49m\u001b[43m(\u001b[49m\u001b[38;5;124;43m'\u001b[39;49m\u001b[38;5;124;43m./data/32x32preprocessing/images/\u001b[39;49m\u001b[38;5;132;43;01m{path}\u001b[39;49;00m\u001b[38;5;132;43;01m{by}\u001b[39;49;00m\u001b[38;5;132;43;01m{count}\u001b[39;49;00m\u001b[38;5;124;43m.jpg\u001b[39;49m\u001b[38;5;124;43m'\u001b[39;49m\u001b[38;5;241;43m.\u001b[39;49m\u001b[43mformat\u001b[49m\u001b[43m(\u001b[49m\u001b[43mpath\u001b[49m\u001b[38;5;241;43m=\u001b[39;49m\u001b[43mfilename\u001b[49m\u001b[43m,\u001b[49m\u001b[43mby\u001b[49m\u001b[38;5;241;43m=\u001b[39;49m\u001b[38;5;124;43m'\u001b[39;49m\u001b[38;5;124;43m_\u001b[39;49m\u001b[38;5;124;43m'\u001b[39;49m\u001b[43m,\u001b[49m\u001b[43mcount\u001b[49m\u001b[38;5;241;43m=\u001b[39;49m\u001b[43mcount\u001b[49m\u001b[43m)\u001b[49m\u001b[43m,\u001b[49m\u001b[43mempty_matrix\u001b[49m\u001b[43m[\u001b[49m\u001b[43mcount\u001b[49m\u001b[43m]\u001b[49m\u001b[43m)\u001b[49m\n\u001b[0;32m     14\u001b[0m     count\u001b[38;5;241m=\u001b[39mcount\u001b[38;5;241m+\u001b[39m\u001b[38;5;241m1\u001b[39m\n",
      "\u001b[1;31mKeyboardInterrupt\u001b[0m: "
     ]
    }
   ],
   "source": [
    "train_directory=os.listdir('./data/train_img')\n",
    "img_path = df.iloc[:, 1]\n",
    "\n",
    "for file in train_directory:\n",
    "    empty_matrix=[[[[0 for _ in range(32)] for _ in range(32)] for _ in range(3)] for _ in range(1024)]\n",
    "    image=cv2.imread('./data/train_img/'+file)\n",
    "    count=0\n",
    "    \n",
    "    filename=file.rstrip('.png')\n",
    "    for i in range(32):\n",
    "        for j in range(32):\n",
    "            empty_matrix[count]=image[32*i:32*i+32,32*j:32*j+32,0:3]\n",
    "            cv2.imwrite('./data/32x32preprocessing/images/{path}{by}{count}.jpg'.format(path=filename,by='_',count=count),empty_matrix[count])\n",
    "            count=count+1\n",
    "#             print(count)"
   ]
  },
  {
   "cell_type": "markdown",
   "id": "11de910a",
   "metadata": {},
   "source": [
    "Split mask img to 32X32 (size 32)"
   ]
  },
  {
   "cell_type": "code",
   "execution_count": 15,
   "id": "66a7bb38",
   "metadata": {},
   "outputs": [
    {
     "ename": "KeyboardInterrupt",
     "evalue": "",
     "output_type": "error",
     "traceback": [
      "\u001b[1;31m---------------------------------------------------------------------------\u001b[0m",
      "\u001b[1;31mKeyboardInterrupt\u001b[0m                         Traceback (most recent call last)",
      "Cell \u001b[1;32mIn[15], line 6\u001b[0m\n\u001b[0;32m      4\u001b[0m mask_image\u001b[38;5;241m=\u001b[39mrle_decode(mask[\u001b[38;5;241m1\u001b[39m],(\u001b[38;5;241m1024\u001b[39m,\u001b[38;5;241m1024\u001b[39m))\n\u001b[0;32m      5\u001b[0m count\u001b[38;5;241m=\u001b[39m\u001b[38;5;241m0\u001b[39m\n\u001b[1;32m----> 6\u001b[0m empty_matrix\u001b[38;5;241m=\u001b[39m[[[[\u001b[38;5;241m0\u001b[39m \u001b[38;5;28;01mfor\u001b[39;00m _ \u001b[38;5;129;01min\u001b[39;00m \u001b[38;5;28mrange\u001b[39m(\u001b[38;5;241m224\u001b[39m)] \u001b[38;5;28;01mfor\u001b[39;00m _ \u001b[38;5;129;01min\u001b[39;00m \u001b[38;5;28mrange\u001b[39m(\u001b[38;5;241m224\u001b[39m)] \u001b[38;5;28;01mfor\u001b[39;00m _ \u001b[38;5;129;01min\u001b[39;00m \u001b[38;5;28mrange\u001b[39m(\u001b[38;5;241m3\u001b[39m)] \u001b[38;5;28;01mfor\u001b[39;00m _ \u001b[38;5;129;01min\u001b[39;00m \u001b[38;5;28mrange\u001b[39m(\u001b[38;5;241m1024\u001b[39m)]\n\u001b[0;32m      7\u001b[0m \u001b[38;5;28;01mfor\u001b[39;00m i \u001b[38;5;129;01min\u001b[39;00m \u001b[38;5;28mrange\u001b[39m(\u001b[38;5;241m32\u001b[39m):\n\u001b[0;32m      8\u001b[0m     \u001b[38;5;28;01mfor\u001b[39;00m j \u001b[38;5;129;01min\u001b[39;00m \u001b[38;5;28mrange\u001b[39m(\u001b[38;5;241m32\u001b[39m):\n",
      "Cell \u001b[1;32mIn[15], line 6\u001b[0m, in \u001b[0;36m<listcomp>\u001b[1;34m(.0)\u001b[0m\n\u001b[0;32m      4\u001b[0m mask_image\u001b[38;5;241m=\u001b[39mrle_decode(mask[\u001b[38;5;241m1\u001b[39m],(\u001b[38;5;241m1024\u001b[39m,\u001b[38;5;241m1024\u001b[39m))\n\u001b[0;32m      5\u001b[0m count\u001b[38;5;241m=\u001b[39m\u001b[38;5;241m0\u001b[39m\n\u001b[1;32m----> 6\u001b[0m empty_matrix\u001b[38;5;241m=\u001b[39m[[[[\u001b[38;5;241m0\u001b[39m \u001b[38;5;28;01mfor\u001b[39;00m _ \u001b[38;5;129;01min\u001b[39;00m \u001b[38;5;28mrange\u001b[39m(\u001b[38;5;241m224\u001b[39m)] \u001b[38;5;28;01mfor\u001b[39;00m _ \u001b[38;5;129;01min\u001b[39;00m \u001b[38;5;28mrange\u001b[39m(\u001b[38;5;241m224\u001b[39m)] \u001b[38;5;28;01mfor\u001b[39;00m _ \u001b[38;5;129;01min\u001b[39;00m \u001b[38;5;28mrange\u001b[39m(\u001b[38;5;241m3\u001b[39m)] \u001b[38;5;28;01mfor\u001b[39;00m _ \u001b[38;5;129;01min\u001b[39;00m \u001b[38;5;28mrange\u001b[39m(\u001b[38;5;241m1024\u001b[39m)]\n\u001b[0;32m      7\u001b[0m \u001b[38;5;28;01mfor\u001b[39;00m i \u001b[38;5;129;01min\u001b[39;00m \u001b[38;5;28mrange\u001b[39m(\u001b[38;5;241m32\u001b[39m):\n\u001b[0;32m      8\u001b[0m     \u001b[38;5;28;01mfor\u001b[39;00m j \u001b[38;5;129;01min\u001b[39;00m \u001b[38;5;28mrange\u001b[39m(\u001b[38;5;241m32\u001b[39m):\n",
      "Cell \u001b[1;32mIn[15], line 6\u001b[0m, in \u001b[0;36m<listcomp>\u001b[1;34m(.0)\u001b[0m\n\u001b[0;32m      4\u001b[0m mask_image\u001b[38;5;241m=\u001b[39mrle_decode(mask[\u001b[38;5;241m1\u001b[39m],(\u001b[38;5;241m1024\u001b[39m,\u001b[38;5;241m1024\u001b[39m))\n\u001b[0;32m      5\u001b[0m count\u001b[38;5;241m=\u001b[39m\u001b[38;5;241m0\u001b[39m\n\u001b[1;32m----> 6\u001b[0m empty_matrix\u001b[38;5;241m=\u001b[39m[[[[\u001b[38;5;241m0\u001b[39m \u001b[38;5;28;01mfor\u001b[39;00m _ \u001b[38;5;129;01min\u001b[39;00m \u001b[38;5;28mrange\u001b[39m(\u001b[38;5;241m224\u001b[39m)] \u001b[38;5;28;01mfor\u001b[39;00m _ \u001b[38;5;129;01min\u001b[39;00m \u001b[38;5;28mrange\u001b[39m(\u001b[38;5;241m224\u001b[39m)] \u001b[38;5;28;01mfor\u001b[39;00m _ \u001b[38;5;129;01min\u001b[39;00m \u001b[38;5;28mrange\u001b[39m(\u001b[38;5;241m3\u001b[39m)] \u001b[38;5;28;01mfor\u001b[39;00m _ \u001b[38;5;129;01min\u001b[39;00m \u001b[38;5;28mrange\u001b[39m(\u001b[38;5;241m1024\u001b[39m)]\n\u001b[0;32m      7\u001b[0m \u001b[38;5;28;01mfor\u001b[39;00m i \u001b[38;5;129;01min\u001b[39;00m \u001b[38;5;28mrange\u001b[39m(\u001b[38;5;241m32\u001b[39m):\n\u001b[0;32m      8\u001b[0m     \u001b[38;5;28;01mfor\u001b[39;00m j \u001b[38;5;129;01min\u001b[39;00m \u001b[38;5;28mrange\u001b[39m(\u001b[38;5;241m32\u001b[39m):\n",
      "Cell \u001b[1;32mIn[15], line 6\u001b[0m, in \u001b[0;36m<listcomp>\u001b[1;34m(.0)\u001b[0m\n\u001b[0;32m      4\u001b[0m mask_image\u001b[38;5;241m=\u001b[39mrle_decode(mask[\u001b[38;5;241m1\u001b[39m],(\u001b[38;5;241m1024\u001b[39m,\u001b[38;5;241m1024\u001b[39m))\n\u001b[0;32m      5\u001b[0m count\u001b[38;5;241m=\u001b[39m\u001b[38;5;241m0\u001b[39m\n\u001b[1;32m----> 6\u001b[0m empty_matrix\u001b[38;5;241m=\u001b[39m[[[[\u001b[38;5;241m0\u001b[39m \u001b[38;5;28;01mfor\u001b[39;00m _ \u001b[38;5;129;01min\u001b[39;00m \u001b[38;5;28mrange\u001b[39m(\u001b[38;5;241m224\u001b[39m)] \u001b[38;5;28;01mfor\u001b[39;00m _ \u001b[38;5;129;01min\u001b[39;00m \u001b[38;5;28mrange\u001b[39m(\u001b[38;5;241m224\u001b[39m)] \u001b[38;5;28;01mfor\u001b[39;00m _ \u001b[38;5;129;01min\u001b[39;00m \u001b[38;5;28mrange\u001b[39m(\u001b[38;5;241m3\u001b[39m)] \u001b[38;5;28;01mfor\u001b[39;00m _ \u001b[38;5;129;01min\u001b[39;00m \u001b[38;5;28mrange\u001b[39m(\u001b[38;5;241m1024\u001b[39m)]\n\u001b[0;32m      7\u001b[0m \u001b[38;5;28;01mfor\u001b[39;00m i \u001b[38;5;129;01min\u001b[39;00m \u001b[38;5;28mrange\u001b[39m(\u001b[38;5;241m32\u001b[39m):\n\u001b[0;32m      8\u001b[0m     \u001b[38;5;28;01mfor\u001b[39;00m j \u001b[38;5;129;01min\u001b[39;00m \u001b[38;5;28mrange\u001b[39m(\u001b[38;5;241m32\u001b[39m):\n",
      "Cell \u001b[1;32mIn[15], line 6\u001b[0m, in \u001b[0;36m<listcomp>\u001b[1;34m(.0)\u001b[0m\n\u001b[0;32m      4\u001b[0m mask_image\u001b[38;5;241m=\u001b[39mrle_decode(mask[\u001b[38;5;241m1\u001b[39m],(\u001b[38;5;241m1024\u001b[39m,\u001b[38;5;241m1024\u001b[39m))\n\u001b[0;32m      5\u001b[0m count\u001b[38;5;241m=\u001b[39m\u001b[38;5;241m0\u001b[39m\n\u001b[1;32m----> 6\u001b[0m empty_matrix\u001b[38;5;241m=\u001b[39m[[[[\u001b[38;5;241m0\u001b[39m \u001b[38;5;28;01mfor\u001b[39;00m _ \u001b[38;5;129;01min\u001b[39;00m \u001b[38;5;28mrange\u001b[39m(\u001b[38;5;241m224\u001b[39m)] \u001b[38;5;28;01mfor\u001b[39;00m _ \u001b[38;5;129;01min\u001b[39;00m \u001b[38;5;28mrange\u001b[39m(\u001b[38;5;241m224\u001b[39m)] \u001b[38;5;28;01mfor\u001b[39;00m _ \u001b[38;5;129;01min\u001b[39;00m \u001b[38;5;28mrange\u001b[39m(\u001b[38;5;241m3\u001b[39m)] \u001b[38;5;28;01mfor\u001b[39;00m _ \u001b[38;5;129;01min\u001b[39;00m \u001b[38;5;28mrange\u001b[39m(\u001b[38;5;241m1024\u001b[39m)]\n\u001b[0;32m      7\u001b[0m \u001b[38;5;28;01mfor\u001b[39;00m i \u001b[38;5;129;01min\u001b[39;00m \u001b[38;5;28mrange\u001b[39m(\u001b[38;5;241m32\u001b[39m):\n\u001b[0;32m      8\u001b[0m     \u001b[38;5;28;01mfor\u001b[39;00m j \u001b[38;5;129;01min\u001b[39;00m \u001b[38;5;28mrange\u001b[39m(\u001b[38;5;241m32\u001b[39m):\n",
      "\u001b[1;31mKeyboardInterrupt\u001b[0m: "
     ]
    }
   ],
   "source": [
    "mask_list=df[[df.columns[0],df.columns[2]]].to_numpy()\n",
    "for mask in mask_list:\n",
    "    mask_name=mask[0]\n",
    "    mask_image=rle_decode(mask[1],(1024,1024))\n",
    "    count=0\n",
    "    empty_matrix=[[[[0 for _ in range(224)] for _ in range(224)] for _ in range(3)] for _ in range(1024)]\n",
    "    for i in range(32):\n",
    "        for j in range(32):\n",
    "            empty_matrix[count]=mask_image[32*i:32*i+32,32*j:32*j+32]\n",
    "            cv2.imwrite('./data/32x32preprocessing/masks/{path}{by}{count}.jpg'.format(path=mask_name,by='_',count=count),empty_matrix[count]*255)\n",
    "            count=count+1"
   ]
  },
  {
   "cell_type": "markdown",
   "id": "4397ba25",
   "metadata": {},
   "source": [
    "Split train_img to 4X4 (size : 224x224)"
   ]
  },
  {
   "cell_type": "code",
   "execution_count": null,
   "id": "f28a543a",
   "metadata": {},
   "outputs": [],
   "source": [
    "train_directory=os.listdir('./data/train_img')\n",
    "img_path = df.iloc[:, 1]\n",
    "\n",
    "for file in train_directory:\n",
    "    empty_matrix=[[[[0 for _ in range(224)] for _ in range(224)] for _ in range(3)] for _ in range(16)]\n",
    "    image=cv2.imread('./data/train_img/'+file)\n",
    "    count=0\n",
    "    \n",
    "    filename=file.rstrip('.png')\n",
    "    for i in range(4):\n",
    "        for j in range(4):\n",
    "            empty_matrix[count]=image[224*i:224*i+224,224*j:224*j+224,0:3]\n",
    "            cv2.imwrite('./data/224x224preprocessing/mydataset/train/images/{path}{by}{count}.jpg'.format(path=filename,by='_',count=count),empty_matrix[count])\n",
    "            count=count+1\n",
    "#             print(count)"
   ]
  },
  {
   "cell_type": "markdown",
   "id": "4b22fed3",
   "metadata": {},
   "source": [
    "Split mask img to 4X4 (size 224x224)"
   ]
  },
  {
   "cell_type": "code",
   "execution_count": 16,
   "id": "47e596db",
   "metadata": {},
   "outputs": [
    {
     "ename": "KeyboardInterrupt",
     "evalue": "",
     "output_type": "error",
     "traceback": [
      "\u001b[1;31m---------------------------------------------------------------------------\u001b[0m",
      "\u001b[1;31mKeyboardInterrupt\u001b[0m                         Traceback (most recent call last)",
      "Cell \u001b[1;32mIn[16], line 6\u001b[0m\n\u001b[0;32m      4\u001b[0m mask_image\u001b[38;5;241m=\u001b[39mrle_decode(mask[\u001b[38;5;241m1\u001b[39m],(\u001b[38;5;241m1024\u001b[39m,\u001b[38;5;241m1024\u001b[39m))\n\u001b[0;32m      5\u001b[0m count\u001b[38;5;241m=\u001b[39m\u001b[38;5;241m0\u001b[39m\n\u001b[1;32m----> 6\u001b[0m empty_matrix\u001b[38;5;241m=\u001b[39m[[[[\u001b[38;5;241m0\u001b[39m \u001b[38;5;28;01mfor\u001b[39;00m _ \u001b[38;5;129;01min\u001b[39;00m \u001b[38;5;28mrange\u001b[39m(\u001b[38;5;241m224\u001b[39m)] \u001b[38;5;28;01mfor\u001b[39;00m _ \u001b[38;5;129;01min\u001b[39;00m \u001b[38;5;28mrange\u001b[39m(\u001b[38;5;241m224\u001b[39m)] \u001b[38;5;28;01mfor\u001b[39;00m _ \u001b[38;5;129;01min\u001b[39;00m \u001b[38;5;28mrange\u001b[39m(\u001b[38;5;241m3\u001b[39m)] \u001b[38;5;28;01mfor\u001b[39;00m _ \u001b[38;5;129;01min\u001b[39;00m \u001b[38;5;28mrange\u001b[39m(\u001b[38;5;241m16\u001b[39m)]\n\u001b[0;32m      7\u001b[0m \u001b[38;5;28;01mfor\u001b[39;00m i \u001b[38;5;129;01min\u001b[39;00m \u001b[38;5;28mrange\u001b[39m(\u001b[38;5;241m4\u001b[39m):\n\u001b[0;32m      8\u001b[0m     \u001b[38;5;28;01mfor\u001b[39;00m j \u001b[38;5;129;01min\u001b[39;00m \u001b[38;5;28mrange\u001b[39m(\u001b[38;5;241m4\u001b[39m):\n",
      "Cell \u001b[1;32mIn[16], line 6\u001b[0m, in \u001b[0;36m<listcomp>\u001b[1;34m(.0)\u001b[0m\n\u001b[0;32m      4\u001b[0m mask_image\u001b[38;5;241m=\u001b[39mrle_decode(mask[\u001b[38;5;241m1\u001b[39m],(\u001b[38;5;241m1024\u001b[39m,\u001b[38;5;241m1024\u001b[39m))\n\u001b[0;32m      5\u001b[0m count\u001b[38;5;241m=\u001b[39m\u001b[38;5;241m0\u001b[39m\n\u001b[1;32m----> 6\u001b[0m empty_matrix\u001b[38;5;241m=\u001b[39m[[[[\u001b[38;5;241m0\u001b[39m \u001b[38;5;28;01mfor\u001b[39;00m _ \u001b[38;5;129;01min\u001b[39;00m \u001b[38;5;28mrange\u001b[39m(\u001b[38;5;241m224\u001b[39m)] \u001b[38;5;28;01mfor\u001b[39;00m _ \u001b[38;5;129;01min\u001b[39;00m \u001b[38;5;28mrange\u001b[39m(\u001b[38;5;241m224\u001b[39m)] \u001b[38;5;28;01mfor\u001b[39;00m _ \u001b[38;5;129;01min\u001b[39;00m \u001b[38;5;28mrange\u001b[39m(\u001b[38;5;241m3\u001b[39m)] \u001b[38;5;28;01mfor\u001b[39;00m _ \u001b[38;5;129;01min\u001b[39;00m \u001b[38;5;28mrange\u001b[39m(\u001b[38;5;241m16\u001b[39m)]\n\u001b[0;32m      7\u001b[0m \u001b[38;5;28;01mfor\u001b[39;00m i \u001b[38;5;129;01min\u001b[39;00m \u001b[38;5;28mrange\u001b[39m(\u001b[38;5;241m4\u001b[39m):\n\u001b[0;32m      8\u001b[0m     \u001b[38;5;28;01mfor\u001b[39;00m j \u001b[38;5;129;01min\u001b[39;00m \u001b[38;5;28mrange\u001b[39m(\u001b[38;5;241m4\u001b[39m):\n",
      "Cell \u001b[1;32mIn[16], line 6\u001b[0m, in \u001b[0;36m<listcomp>\u001b[1;34m(.0)\u001b[0m\n\u001b[0;32m      4\u001b[0m mask_image\u001b[38;5;241m=\u001b[39mrle_decode(mask[\u001b[38;5;241m1\u001b[39m],(\u001b[38;5;241m1024\u001b[39m,\u001b[38;5;241m1024\u001b[39m))\n\u001b[0;32m      5\u001b[0m count\u001b[38;5;241m=\u001b[39m\u001b[38;5;241m0\u001b[39m\n\u001b[1;32m----> 6\u001b[0m empty_matrix\u001b[38;5;241m=\u001b[39m[[[[\u001b[38;5;241m0\u001b[39m \u001b[38;5;28;01mfor\u001b[39;00m _ \u001b[38;5;129;01min\u001b[39;00m \u001b[38;5;28mrange\u001b[39m(\u001b[38;5;241m224\u001b[39m)] \u001b[38;5;28;01mfor\u001b[39;00m _ \u001b[38;5;129;01min\u001b[39;00m \u001b[38;5;28mrange\u001b[39m(\u001b[38;5;241m224\u001b[39m)] \u001b[38;5;28;01mfor\u001b[39;00m _ \u001b[38;5;129;01min\u001b[39;00m \u001b[38;5;28mrange\u001b[39m(\u001b[38;5;241m3\u001b[39m)] \u001b[38;5;28;01mfor\u001b[39;00m _ \u001b[38;5;129;01min\u001b[39;00m \u001b[38;5;28mrange\u001b[39m(\u001b[38;5;241m16\u001b[39m)]\n\u001b[0;32m      7\u001b[0m \u001b[38;5;28;01mfor\u001b[39;00m i \u001b[38;5;129;01min\u001b[39;00m \u001b[38;5;28mrange\u001b[39m(\u001b[38;5;241m4\u001b[39m):\n\u001b[0;32m      8\u001b[0m     \u001b[38;5;28;01mfor\u001b[39;00m j \u001b[38;5;129;01min\u001b[39;00m \u001b[38;5;28mrange\u001b[39m(\u001b[38;5;241m4\u001b[39m):\n",
      "Cell \u001b[1;32mIn[16], line 6\u001b[0m, in \u001b[0;36m<listcomp>\u001b[1;34m(.0)\u001b[0m\n\u001b[0;32m      4\u001b[0m mask_image\u001b[38;5;241m=\u001b[39mrle_decode(mask[\u001b[38;5;241m1\u001b[39m],(\u001b[38;5;241m1024\u001b[39m,\u001b[38;5;241m1024\u001b[39m))\n\u001b[0;32m      5\u001b[0m count\u001b[38;5;241m=\u001b[39m\u001b[38;5;241m0\u001b[39m\n\u001b[1;32m----> 6\u001b[0m empty_matrix\u001b[38;5;241m=\u001b[39m[[[[\u001b[38;5;241m0\u001b[39m \u001b[38;5;28;01mfor\u001b[39;00m _ \u001b[38;5;129;01min\u001b[39;00m \u001b[38;5;28mrange\u001b[39m(\u001b[38;5;241m224\u001b[39m)] \u001b[38;5;28;01mfor\u001b[39;00m _ \u001b[38;5;129;01min\u001b[39;00m \u001b[38;5;28mrange\u001b[39m(\u001b[38;5;241m224\u001b[39m)] \u001b[38;5;28;01mfor\u001b[39;00m _ \u001b[38;5;129;01min\u001b[39;00m \u001b[38;5;28mrange\u001b[39m(\u001b[38;5;241m3\u001b[39m)] \u001b[38;5;28;01mfor\u001b[39;00m _ \u001b[38;5;129;01min\u001b[39;00m \u001b[38;5;28mrange\u001b[39m(\u001b[38;5;241m16\u001b[39m)]\n\u001b[0;32m      7\u001b[0m \u001b[38;5;28;01mfor\u001b[39;00m i \u001b[38;5;129;01min\u001b[39;00m \u001b[38;5;28mrange\u001b[39m(\u001b[38;5;241m4\u001b[39m):\n\u001b[0;32m      8\u001b[0m     \u001b[38;5;28;01mfor\u001b[39;00m j \u001b[38;5;129;01min\u001b[39;00m \u001b[38;5;28mrange\u001b[39m(\u001b[38;5;241m4\u001b[39m):\n",
      "Cell \u001b[1;32mIn[16], line 6\u001b[0m, in \u001b[0;36m<listcomp>\u001b[1;34m(.0)\u001b[0m\n\u001b[0;32m      4\u001b[0m mask_image\u001b[38;5;241m=\u001b[39mrle_decode(mask[\u001b[38;5;241m1\u001b[39m],(\u001b[38;5;241m1024\u001b[39m,\u001b[38;5;241m1024\u001b[39m))\n\u001b[0;32m      5\u001b[0m count\u001b[38;5;241m=\u001b[39m\u001b[38;5;241m0\u001b[39m\n\u001b[1;32m----> 6\u001b[0m empty_matrix\u001b[38;5;241m=\u001b[39m[[[[\u001b[38;5;241m0\u001b[39m \u001b[38;5;28;01mfor\u001b[39;00m _ \u001b[38;5;129;01min\u001b[39;00m \u001b[38;5;28mrange\u001b[39m(\u001b[38;5;241m224\u001b[39m)] \u001b[38;5;28;01mfor\u001b[39;00m _ \u001b[38;5;129;01min\u001b[39;00m \u001b[38;5;28mrange\u001b[39m(\u001b[38;5;241m224\u001b[39m)] \u001b[38;5;28;01mfor\u001b[39;00m _ \u001b[38;5;129;01min\u001b[39;00m \u001b[38;5;28mrange\u001b[39m(\u001b[38;5;241m3\u001b[39m)] \u001b[38;5;28;01mfor\u001b[39;00m _ \u001b[38;5;129;01min\u001b[39;00m \u001b[38;5;28mrange\u001b[39m(\u001b[38;5;241m16\u001b[39m)]\n\u001b[0;32m      7\u001b[0m \u001b[38;5;28;01mfor\u001b[39;00m i \u001b[38;5;129;01min\u001b[39;00m \u001b[38;5;28mrange\u001b[39m(\u001b[38;5;241m4\u001b[39m):\n\u001b[0;32m      8\u001b[0m     \u001b[38;5;28;01mfor\u001b[39;00m j \u001b[38;5;129;01min\u001b[39;00m \u001b[38;5;28mrange\u001b[39m(\u001b[38;5;241m4\u001b[39m):\n",
      "\u001b[1;31mKeyboardInterrupt\u001b[0m: "
     ]
    }
   ],
   "source": [
    "mask_list=df[[df.columns[0],df.columns[2]]].to_numpy()\n",
    "for mask in mask_list:\n",
    "    mask_name=mask[0]\n",
    "    mask_image=rle_decode(mask[1],(1024,1024))\n",
    "    count=0\n",
    "    empty_matrix=[[[[0 for _ in range(224)] for _ in range(224)] for _ in range(3)] for _ in range(16)]\n",
    "    for i in range(4):\n",
    "        for j in range(4):\n",
    "            empty_matrix[count]=mask_image[224*i:224*i+224,224*j:224*j+224]\n",
    "            cv2.imwrite('./data/224x224preprocessing/mydataset/train/Semantic_masks/{path}{by}{count}.jpg'.format(path=mask_name,by='_',count=count),empty_matrix[count]*255)\n",
    "            count=count+1"
   ]
  }
 ],
 "metadata": {
  "kernelspec": {
   "display_name": "Python dnn",
   "language": "python",
   "name": "myenv"
  },
  "language_info": {
   "codemirror_mode": {
    "name": "ipython",
    "version": 3
   },
   "file_extension": ".py",
   "mimetype": "text/x-python",
   "name": "python",
   "nbconvert_exporter": "python",
   "pygments_lexer": "ipython3",
   "version": "3.9.16"
  }
 },
 "nbformat": 4,
 "nbformat_minor": 5
}
